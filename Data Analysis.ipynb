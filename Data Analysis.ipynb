{
 "cells": [
  {
   "cell_type": "code",
   "execution_count": 2,
   "metadata": {},
   "outputs": [
    {
     "name": "stdout",
     "output_type": "stream",
     "text": [
      "<class 'list'>\n"
     ]
    }
   ],
   "source": [
    "import json\n",
    "file = open(\"hn_2014.json\")\n",
    "hn = json.load(file)\n",
    "\n",
    "print(type(hn))"
   ]
  },
  {
   "cell_type": "markdown",
   "metadata": {},
   "source": [
    "Let's find out how many objects are in the list, and the type of the first object"
   ]
  },
  {
   "cell_type": "code",
   "execution_count": 3,
   "metadata": {},
   "outputs": [
    {
     "name": "stdout",
     "output_type": "stream",
     "text": [
      "35806\n",
      "<class 'dict'>\n"
     ]
    }
   ],
   "source": [
    "print(len(hn))\n",
    "print(type(hn[0]))"
   ]
  },
  {
   "cell_type": "markdown",
   "metadata": {},
   "source": [
    "Our data set contains 35,806 dictionary objects, each representing a Hacker News story. Let's look at some keys from the dictionary."
   ]
  },
  {
   "cell_type": "code",
   "execution_count": 4,
   "metadata": {},
   "outputs": [
    {
     "data": {
      "text/plain": [
       "dict_keys(['author', 'numComments', 'points', 'url', 'storyText', 'createdAt', 'tags', 'createdAtI', 'title', 'objectId'])"
      ]
     },
     "execution_count": 4,
     "metadata": {},
     "output_type": "execute_result"
    }
   ],
   "source": [
    "hn[0].keys()"
   ]
  },
  {
   "cell_type": "code",
   "execution_count": 5,
   "metadata": {},
   "outputs": [
    {
     "data": {
      "text/plain": [
       "'Are we getting too Sassy? Weighing up micro-optimisation vs. maintainability'"
      ]
     },
     "execution_count": 5,
     "metadata": {},
     "output_type": "execute_result"
    }
   ],
   "source": [
    "hn[0][\"title\"]"
   ]
  },
  {
   "cell_type": "code",
   "execution_count": 6,
   "metadata": {},
   "outputs": [],
   "source": [
    "def del_key(dict_, key):\n",
    "    # create a copy so we don't\n",
    "    # modify the original dict\n",
    "    modified_dict = dict_.copy()\n",
    "    del modified_dict[key]\n",
    "    return modified_dict"
   ]
  },
  {
   "cell_type": "code",
   "execution_count": 11,
   "metadata": {},
   "outputs": [
    {
     "name": "stdout",
     "output_type": "stream",
     "text": [
      "{'author': 'dragongraphics', 'numComments': 0, 'points': 2, 'url': 'http://ashleynolan.co.uk/blog/are-we-getting-too-sassy', 'storyText': '', 'createdAt': '2014-05-29T08:07:50Z', 'tags': ['story', 'author_dragongraphics', 'story_7815238'], 'title': 'Are we getting too Sassy? Weighing up micro-optimisation vs. maintainability', 'objectId': '7815238'} \n",
      "\n",
      "{'author': 'jcr', 'numComments': 0, 'points': 1, 'url': 'http://spectrum.ieee.org/automaton/robotics/home-robots/telemba-telepresence-robot', 'storyText': '', 'createdAt': '2014-05-29T08:05:58Z', 'tags': ['story', 'author_jcr', 'story_7815234'], 'title': 'Telemba Turns Your Old Roomba and Tablet Into a Telepresence Robot', 'objectId': '7815234'} \n",
      "\n",
      "{'author': 'callum85', 'numComments': 0, 'points': 1, 'url': 'http://online.wsj.com/articles/apple-to-buy-beats-1401308971', 'storyText': '', 'createdAt': '2014-05-29T08:05:06Z', 'tags': ['story', 'author_callum85', 'story_7815230'], 'title': 'Apple Agrees to Buy Beats for $3 Billion', 'objectId': '7815230'} \n",
      "\n"
     ]
    }
   ],
   "source": [
    "hn_clean = [del_key(d, 'createdAtI') for d in hn]\n",
    "for i in range(0,3):\n",
    "    print(hn_clean[i],\"\\n\")"
   ]
  },
  {
   "cell_type": "markdown",
   "metadata": {},
   "source": [
    "Let us extract the url value from each dictionary in hn_clean"
   ]
  },
  {
   "cell_type": "code",
   "execution_count": 22,
   "metadata": {},
   "outputs": [
    {
     "name": "stdout",
     "output_type": "stream",
     "text": [
      "http://ashleynolan.co.uk/blog/are-we-getting-too-sassy\n",
      "http://spectrum.ieee.org/automaton/robotics/home-robots/telemba-telepresence-robot\n",
      "http://online.wsj.com/articles/apple-to-buy-beats-1401308971\n",
      "http://alexsblog.org/2014/05/29/dont-wait-for-inspiration/\n",
      "http://techcrunch.com/2014/05/28/hackerone-get-9m-in-series-a-funding-to-build-bug-tracking-bounty-programs/\n"
     ]
    }
   ],
   "source": [
    "urls = [item[\"url\"] for item in hn_clean]\n",
    "for i in range(0,5):\n",
    "    print(urls[i])"
   ]
  },
  {
   "cell_type": "markdown",
   "metadata": {},
   "source": [
    "Let's count the number of stories that have comments. Note that column \"numComments\" in hn_clean is an integer, with 0 if there are no comments. "
   ]
  },
  {
   "cell_type": "code",
   "execution_count": 25,
   "metadata": {},
   "outputs": [
    {
     "name": "stdout",
     "output_type": "stream",
     "text": [
      "Five Super Successful Tech Pivots\n",
      "Gi Bike: The light, full-size, electric, folding bike\n",
      "For Hire: Dedicated Young Man With Down Syndrome\n",
      "World War II in the Pacific, narrated by my grandpa\n",
      "The NSA can't remotely turn on all phones\n",
      "Chrome Logger\n",
      "My Response to the Accusation that Nerds are Misogynistic\n",
      "Microsoft Lays out the Future of Internet Explorer\n",
      "The Soylent Revolution Will Not Be Pleasurable\n",
      "Pure 0.5.0 – Get Started with Grids\n"
     ]
    }
   ],
   "source": [
    "has_comments = [d for d in hn_clean if d[\"numComments\"]>0]\n",
    "for i in range(10):\n",
    "    print(has_comments[i][\"title\"])"
   ]
  },
  {
   "cell_type": "code",
   "execution_count": 30,
   "metadata": {},
   "outputs": [
    {
     "name": "stdout",
     "output_type": "stream",
     "text": [
      "9279  total titles with at least one comment\n"
     ]
    }
   ],
   "source": [
    "print(len(has_comments), \" total titles with at least one comment\")"
   ]
  },
  {
   "cell_type": "markdown",
   "metadata": {},
   "source": [
    "Let's count how many stories have more than 1000 points and display their titles."
   ]
  },
  {
   "cell_type": "code",
   "execution_count": 40,
   "metadata": {},
   "outputs": [
    {
     "name": "stdout",
     "output_type": "stream",
     "text": [
      "8\n"
     ]
    }
   ],
   "source": [
    "thousand_points = [d for d in hn_clean if d[\"points\"]>1000]\n",
    "num_thousand_points = len(thousand_points)\n",
    "print(num_thousand_points) "
   ]
  },
  {
   "cell_type": "code",
   "execution_count": 41,
   "metadata": {},
   "outputs": [
    {
     "name": "stdout",
     "output_type": "stream",
     "text": [
      "1297  points :  Microsoft Open Sources C# Compiler\n",
      "1192  points :  Elon Musk: To the People of New Jersey\n",
      "2732  points :  2048\n",
      "1095  points :  The Face Behind Bitcoin?\n",
      "1054  points :  Facebook Buying WhatsApp for $16B in Cash and Stock Plus $3B in RSUs\n",
      "1958  points :  Today is The Day We Fight Back\n",
      "1062  points :  Mystery signal from a helicopter\n",
      "1522  points :  Wozniak: “Actually, the movie was largely a lie about me”\n"
     ]
    }
   ],
   "source": [
    "for row in thousand_points:\n",
    "    print(row[\"points\"], \" points\", \": \", row[\"title\"])"
   ]
  },
  {
   "cell_type": "markdown",
   "metadata": {},
   "source": [
    "Let's find the story that has the greatest number of comments. First let's write a small function to help print json objects nicely."
   ]
  },
  {
   "cell_type": "code",
   "execution_count": 43,
   "metadata": {},
   "outputs": [],
   "source": [
    "def jprint(obj):\n",
    "    # create a formatted string of the Python JSON object\n",
    "    text = json.dumps(obj, sort_keys=True, indent=4)\n",
    "    print(text)"
   ]
  },
  {
   "cell_type": "code",
   "execution_count": 44,
   "metadata": {},
   "outputs": [
    {
     "name": "stdout",
     "output_type": "stream",
     "text": [
      "{\n",
      "    \"author\": \"platz\",\n",
      "    \"createdAt\": \"2014-04-03T19:02:53Z\",\n",
      "    \"numComments\": 1208,\n",
      "    \"objectId\": \"7525198\",\n",
      "    \"points\": 889,\n",
      "    \"storyText\": null,\n",
      "    \"tags\": [\n",
      "        \"story\",\n",
      "        \"author_platz\",\n",
      "        \"story_7525198\"\n",
      "    ],\n",
      "    \"title\": \"Brendan Eich Steps Down as Mozilla CEO\",\n",
      "    \"url\": \"https://blog.mozilla.org/blog/2014/04/03/brendan-eich-steps-down-as-mozilla-ceo/\"\n",
      "}\n"
     ]
    }
   ],
   "source": [
    "def key_function(json_dict):\n",
    "    return json_dict[\"numComments\"]\n",
    "\n",
    "most_comments = max(hn_clean, key=key_function)\n",
    "\n",
    "jprint(most_comments)"
   ]
  },
  {
   "cell_type": "code",
   "execution_count": null,
   "metadata": {},
   "outputs": [],
   "source": []
  }
 ],
 "metadata": {
  "kernelspec": {
   "display_name": "Python 3",
   "language": "python",
   "name": "python3"
  },
  "language_info": {
   "codemirror_mode": {
    "name": "ipython",
    "version": 3
   },
   "file_extension": ".py",
   "mimetype": "text/x-python",
   "name": "python",
   "nbconvert_exporter": "python",
   "pygments_lexer": "ipython3",
   "version": "3.7.4"
  }
 },
 "nbformat": 4,
 "nbformat_minor": 2
}
